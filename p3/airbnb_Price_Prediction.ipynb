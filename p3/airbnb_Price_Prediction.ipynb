{
 "cells": [
  {
   "cell_type": "code",
   "execution_count": 103,
   "metadata": {},
   "outputs": [],
   "source": [
    "import pandas as pd\n",
    "import numpy as np\n",
    "import matplotlib.pyplot as plt\n",
    "from sklearn import preprocessing\n",
    "from sklearn.linear_model import LinearRegression"
   ]
  },
  {
   "cell_type": "code",
   "execution_count": 166,
   "metadata": {},
   "outputs": [],
   "source": [
    "listings=pd.read_csv(\"C://Users//Harish//Documents//Autumn Quarter Assignments//BigData Analytics//listings (1).csv\")\n",
    "reviews=pd.read_csv(\"C://Users//Harish//Documents//Autumn Quarter Assignments//BigData Analytics//reviews (1).csv\")"
   ]
  },
  {
   "cell_type": "code",
   "execution_count": 167,
   "metadata": {},
   "outputs": [],
   "source": [
    "listings.drop(['name','host_id','host_name','latitude','longitude','minimum_nights','neighbourhood_group'\n",
    "            ,'calculated_host_listings_count','reviews_per_month','number_of_reviews']\n",
    "            ,inplace=True, axis=1)\n",
    "listings['neighbourhood'] = listings['neighbourhood'].str.strip()\n",
    "listings['room_type'] = listings['room_type'].str.strip()\n"
   ]
  },
  {
   "cell_type": "code",
   "execution_count": 168,
   "metadata": {},
   "outputs": [],
   "source": [
    "listings = listings[listings.price != 0]\n",
    "listings = listings[listings.last_review >= '2017-01-01']\n",
    "reviews = reviews[reviews.date >= '2017-01-01']"
   ]
  },
  {
   "cell_type": "code",
   "execution_count": 169,
   "metadata": {},
   "outputs": [],
   "source": [
    "reviews = reviews.groupby('listing_id')['date'].size().reset_index(name='number_of_reviews')\n",
    "#reviews = reviews.groupby('listing_id')[pd.Grouper(freq='M')].mean().reset_index(name='number_of_reviews per month')\n",
    "listings = listings.rename(columns={\"id\": \"listing_id\"})\n",
    "listings = pd.merge(listings, reviews, how='inner', on='listing_id')\n"
   ]
  },
  {
   "cell_type": "code",
   "execution_count": 170,
   "metadata": {},
   "outputs": [],
   "source": [
    "listings=listings.drop(columns='last_review',axis=1)\n",
    "\n"
   ]
  },
  {
   "cell_type": "code",
   "execution_count": 171,
   "metadata": {},
   "outputs": [
    {
     "name": "stdout",
     "output_type": "stream",
     "text": [
      "[['Madrona' 'Entire home/apt' 322 18]\n",
      " ['Roosevelt' 'Private room' 349 12]\n",
      " ['South Delridge' 'Entire home/apt' 14 98]\n",
      " ...\n",
      " ['Broadway' 'Entire home/apt' 355 1]\n",
      " ['Belltown' 'Private room' 3 1]\n",
      " ['Brighton' 'Entire home/apt' 11 1]]\n",
      "[296  82  48 ... 120  65 120]\n"
     ]
    }
   ],
   "source": [
    "X=listings.loc[:,['neighbourhood','room_type','availability_365','number_of_reviews']].values\n",
    "y=listings.loc[:,'price'].values\n",
    "\n",
    "print(X)\n",
    "print(y)\n",
    "\n",
    "\n"
   ]
  },
  {
   "cell_type": "code",
   "execution_count": 172,
   "metadata": {},
   "outputs": [],
   "source": [
    "from sklearn.preprocessing import LabelEncoder,OneHotEncoder\n",
    "labelencoder = LabelEncoder()\n",
    "X[:,0]=labelencoder.fit_transform(X[:,0])\n",
    "X[:,1]=labelencoder.fit_transform(X[:,1])\n",
    "onehotencoder = OneHotEncoder(categorical_features=[0,1])\n",
    "X=onehotencoder.fit_transform(X).toarray()\n"
   ]
  },
  {
   "cell_type": "code",
   "execution_count": 173,
   "metadata": {},
   "outputs": [
    {
     "name": "stdout",
     "output_type": "stream",
     "text": [
      "(5721,)\n"
     ]
    }
   ],
   "source": [
    "from sklearn.model_selection import train_test_split\n",
    "X_train,X_test,y_train,y_test=train_test_split(X,y,test_size=0.2,random_state=0)\n",
    "print(y_train.shape)"
   ]
  },
  {
   "cell_type": "code",
   "execution_count": 174,
   "metadata": {},
   "outputs": [
    {
     "data": {
      "text/plain": [
       "LinearRegression(copy_X=True, fit_intercept=True, n_jobs=1, normalize=False)"
      ]
     },
     "execution_count": 174,
     "metadata": {},
     "output_type": "execute_result"
    }
   ],
   "source": [
    "from sklearn.linear_model import LinearRegression\n",
    "regressor = LinearRegression()\n",
    "regressor.fit(X_train,y_train)"
   ]
  },
  {
   "cell_type": "code",
   "execution_count": 175,
   "metadata": {},
   "outputs": [],
   "source": [
    "y_pred=regressor.predict(X_test)\n"
   ]
  },
  {
   "cell_type": "code",
   "execution_count": 162,
   "metadata": {},
   "outputs": [
    {
     "data": {
      "text/html": [
       "<div>\n",
       "<style scoped>\n",
       "    .dataframe tbody tr th:only-of-type {\n",
       "        vertical-align: middle;\n",
       "    }\n",
       "\n",
       "    .dataframe tbody tr th {\n",
       "        vertical-align: top;\n",
       "    }\n",
       "\n",
       "    .dataframe thead th {\n",
       "        text-align: right;\n",
       "    }\n",
       "</style>\n",
       "<table border=\"1\" class=\"dataframe\">\n",
       "  <thead>\n",
       "    <tr style=\"text-align: right;\">\n",
       "      <th></th>\n",
       "      <th>Actual</th>\n",
       "      <th>Predicted</th>\n",
       "    </tr>\n",
       "  </thead>\n",
       "  <tbody>\n",
       "    <tr>\n",
       "      <th>0</th>\n",
       "      <td>190</td>\n",
       "      <td>141.470292</td>\n",
       "    </tr>\n",
       "    <tr>\n",
       "      <th>1</th>\n",
       "      <td>48</td>\n",
       "      <td>73.358510</td>\n",
       "    </tr>\n",
       "    <tr>\n",
       "      <th>2</th>\n",
       "      <td>142</td>\n",
       "      <td>212.763723</td>\n",
       "    </tr>\n",
       "    <tr>\n",
       "      <th>3</th>\n",
       "      <td>64</td>\n",
       "      <td>36.564592</td>\n",
       "    </tr>\n",
       "    <tr>\n",
       "      <th>4</th>\n",
       "      <td>400</td>\n",
       "      <td>189.330964</td>\n",
       "    </tr>\n",
       "  </tbody>\n",
       "</table>\n",
       "</div>"
      ],
      "text/plain": [
       "   Actual   Predicted\n",
       "0     190  141.470292\n",
       "1      48   73.358510\n",
       "2     142  212.763723\n",
       "3      64   36.564592\n",
       "4     400  189.330964"
      ]
     },
     "execution_count": 162,
     "metadata": {},
     "output_type": "execute_result"
    }
   ],
   "source": [
    "analysis=pd.DataFrame({'Actual':y_test,'Predicted':y_pred})\n",
    "analysis.head()\n",
    "# y_pred=pd.DataFrame(y_pred)\n",
    "# y_pred.to_csv('predictions.csv')\n",
    "# y_test=pd.DataFrame(y_test)\n",
    "# y_test.to_csv('actual.csv')"
   ]
  },
  {
   "cell_type": "code",
   "execution_count": 154,
   "metadata": {},
   "outputs": [],
   "source": [
    "# import statsmodels.formula.api as sm\n",
    "# X=np.append(arr=np.ones((7152,1)).astype(int),values=X,axis=1)\n",
    "# x_opt=X\n",
    "# regressor_OLS=sm.OLS(endog=y,exog=x_opt).fit()\n",
    "# regressor_OLS.summary()"
   ]
  },
  {
   "cell_type": "code",
   "execution_count": 155,
   "metadata": {},
   "outputs": [],
   "source": [
    "# from statsmodels.stats.outliers_influence import variance_inflation_factor\n",
    "# vif = pd.DataFrame()\n",
    "# vif[\"VIF Factor\"] = [variance_inflation_factor(X, i) for i in range(X.shape[1])]\n",
    "# #vif[\"features\"] = X.columns"
   ]
  },
  {
   "cell_type": "code",
   "execution_count": 176,
   "metadata": {},
   "outputs": [],
   "source": [
    "# plt.scatter(X_test[:,-1],y_test,color='red')\n",
    "# plt.plot(X_train[:,-1],regressor.predict(X_train[:,-1]),color='blue')\n",
    "# plt.show()"
   ]
  },
  {
   "cell_type": "code",
   "execution_count": 177,
   "metadata": {},
   "outputs": [
    {
     "name": "stdout",
     "output_type": "stream",
     "text": [
      "6754.000525715206\n",
      "82.18272644367067\n"
     ]
    }
   ],
   "source": [
    "from sklearn import metrics\n",
    "mse=metrics.mean_squared_error(y_test,y_pred)\n",
    "print(mse)\n",
    "rmse=np.sqrt(mse)\n",
    "print(rmse)"
   ]
  },
  {
   "cell_type": "code",
   "execution_count": null,
   "metadata": {},
   "outputs": [],
   "source": []
  }
 ],
 "metadata": {
  "kernelspec": {
   "display_name": "Python 3",
   "language": "python",
   "name": "python3"
  },
  "language_info": {
   "codemirror_mode": {
    "name": "ipython",
    "version": 3
   },
   "file_extension": ".py",
   "mimetype": "text/x-python",
   "name": "python",
   "nbconvert_exporter": "python",
   "pygments_lexer": "ipython3",
   "version": "3.6.5"
  }
 },
 "nbformat": 4,
 "nbformat_minor": 2
}
